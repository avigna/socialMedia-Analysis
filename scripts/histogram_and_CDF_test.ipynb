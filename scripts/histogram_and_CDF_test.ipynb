{
 "cells": [
  {
   "cell_type": "code",
   "execution_count": 1,
   "metadata": {},
   "outputs": [],
   "source": [
    "import numpy as np\n",
    "import pandas as pd\n",
    "import json\n",
    "from matplotlib import pyplot as plt\n",
    "import random \n",
    "\n",
    "from pprint import pprint\n",
    "import pytz"
   ]
  },
  {
   "cell_type": "code",
   "execution_count": 2,
   "metadata": {},
   "outputs": [],
   "source": [
    "# Loading data\n",
    "reducedData=pd.read_csv('../data/elecciones2021/BD_General_nuevo.csv')  \n",
    "# reducedData=reducedData.sort_values(by='Time',ascending=True)\n",
    "reducedData=reducedData.sort_values(by='Time',ascending=True).reset_index(drop = True)"
   ]
  },
  {
   "cell_type": "code",
   "execution_count": 3,
   "metadata": {},
   "outputs": [
    {
     "data": {
      "text/html": [
       "<div>\n",
       "<style scoped>\n",
       "    .dataframe tbody tr th:only-of-type {\n",
       "        vertical-align: middle;\n",
       "    }\n",
       "\n",
       "    .dataframe tbody tr th {\n",
       "        vertical-align: top;\n",
       "    }\n",
       "\n",
       "    .dataframe thead th {\n",
       "        text-align: right;\n",
       "    }\n",
       "</style>\n",
       "<table border=\"1\" class=\"dataframe\">\n",
       "  <thead>\n",
       "    <tr style=\"text-align: right;\">\n",
       "      <th></th>\n",
       "      <th>Unnamed: 0</th>\n",
       "      <th>Tweet ID</th>\n",
       "      <th>User ID</th>\n",
       "      <th>User</th>\n",
       "      <th>Time</th>\n",
       "      <th>Party/Search</th>\n",
       "      <th>Allegiance</th>\n",
       "      <th>Text</th>\n",
       "    </tr>\n",
       "  </thead>\n",
       "  <tbody>\n",
       "    <tr>\n",
       "      <th>0</th>\n",
       "      <td>3911043</td>\n",
       "      <td>1333561477295267841</td>\n",
       "      <td>118898981</td>\n",
       "      <td>Jordi_Co</td>\n",
       "      <td>2020-12-01T00:00:07.000Z</td>\n",
       "      <td>PRD</td>\n",
       "      <td>0.673136</td>\n",
       "      <td>Bajo su análisis, Andrés representa a lo peor ...</td>\n",
       "    </tr>\n",
       "    <tr>\n",
       "      <th>1</th>\n",
       "      <td>3911042</td>\n",
       "      <td>1333561484597735426</td>\n",
       "      <td>328702627</td>\n",
       "      <td>benja21_3</td>\n",
       "      <td>2020-12-01T00:00:08.000Z</td>\n",
       "      <td>PRD</td>\n",
       "      <td>0.969530</td>\n",
       "      <td>La alianza del PAN,PRI y PRD más todos los que...</td>\n",
       "    </tr>\n",
       "    <tr>\n",
       "      <th>2</th>\n",
       "      <td>2209701</td>\n",
       "      <td>1333561512170930183</td>\n",
       "      <td>83678658</td>\n",
       "      <td>ursusnero</td>\n",
       "      <td>2020-12-01T00:00:15.000Z</td>\n",
       "      <td>PRI</td>\n",
       "      <td>0.180877</td>\n",
       "      <td>\"Apartidistas\" → ¡Tomen partido contra Morena!...</td>\n",
       "    </tr>\n",
       "    <tr>\n",
       "      <th>3</th>\n",
       "      <td>3911041</td>\n",
       "      <td>1333561545377378305</td>\n",
       "      <td>1104428775348076544</td>\n",
       "      <td>Roberto89123572</td>\n",
       "      <td>2020-12-01T00:00:23.000Z</td>\n",
       "      <td>PRD</td>\n",
       "      <td>0.254450</td>\n",
       "      <td>@LizLizMarie077 @BeanaNova 1 LA  cura para bor...</td>\n",
       "    </tr>\n",
       "    <tr>\n",
       "      <th>4</th>\n",
       "      <td>2209700</td>\n",
       "      <td>1333561692958167041</td>\n",
       "      <td>2455465874</td>\n",
       "      <td>PRImxJaliscoAC</td>\n",
       "      <td>2020-12-01T00:00:58.000Z</td>\n",
       "      <td>PRI</td>\n",
       "      <td>0.938383</td>\n",
       "      <td>Cuando los militantes como Gustavo y Rosalina,...</td>\n",
       "    </tr>\n",
       "    <tr>\n",
       "      <th>...</th>\n",
       "      <td>...</td>\n",
       "      <td>...</td>\n",
       "      <td>...</td>\n",
       "      <td>...</td>\n",
       "      <td>...</td>\n",
       "      <td>...</td>\n",
       "      <td>...</td>\n",
       "      <td>...</td>\n",
       "    </tr>\n",
       "    <tr>\n",
       "      <th>6356173</th>\n",
       "      <td>5324126</td>\n",
       "      <td>1401765862445563905</td>\n",
       "      <td>1219298739959083011</td>\n",
       "      <td>Laura3442005796</td>\n",
       "      <td>2021-06-07T04:59:59.000Z</td>\n",
       "      <td>PVEM</td>\n",
       "      <td>0.009221</td>\n",
       "      <td>\"Vendidos\":\\nPor quienes se refieren así de la...</td>\n",
       "    </tr>\n",
       "    <tr>\n",
       "      <th>6356174</th>\n",
       "      <td>3911044</td>\n",
       "      <td>1401765860402896898</td>\n",
       "      <td>1265018009472561152</td>\n",
       "      <td>liz99822758</td>\n",
       "      <td>2021-06-07T04:59:59.000Z</td>\n",
       "      <td>PRD</td>\n",
       "      <td>0.034014</td>\n",
       "      <td>El PAN dice que gano\\nEl PRI dice que gano\\nEl...</td>\n",
       "    </tr>\n",
       "    <tr>\n",
       "      <th>6356175</th>\n",
       "      <td>1158349</td>\n",
       "      <td>1401765860809785344</td>\n",
       "      <td>1155266680605614082</td>\n",
       "      <td>olores_y</td>\n",
       "      <td>2021-06-07T04:59:59.000Z</td>\n",
       "      <td>PAN</td>\n",
       "      <td>0.296407</td>\n",
       "      <td>@chincualuda @ElFinanciero_Mx @makugo @AccionN...</td>\n",
       "    </tr>\n",
       "    <tr>\n",
       "      <th>6356176</th>\n",
       "      <td>4466587</td>\n",
       "      <td>1401765860402896898</td>\n",
       "      <td>1265018009472561152</td>\n",
       "      <td>liz99822758</td>\n",
       "      <td>2021-06-07T04:59:59.000Z</td>\n",
       "      <td>PRD</td>\n",
       "      <td>0.034014</td>\n",
       "      <td>El PAN dice que gano\\nEl PRI dice que gano\\nEl...</td>\n",
       "    </tr>\n",
       "    <tr>\n",
       "      <th>6356177</th>\n",
       "      <td>5324129</td>\n",
       "      <td>1401765861489352706</td>\n",
       "      <td>732214009</td>\n",
       "      <td>RBolanosVital</td>\n",
       "      <td>2021-06-07T04:59:59.000Z</td>\n",
       "      <td>PVEM</td>\n",
       "      <td>0.009112</td>\n",
       "      <td>Dignidad.- Cualidad de una persona que se comp...</td>\n",
       "    </tr>\n",
       "  </tbody>\n",
       "</table>\n",
       "<p>6356178 rows × 8 columns</p>\n",
       "</div>"
      ],
      "text/plain": [
       "         Unnamed: 0             Tweet ID              User ID  \\\n",
       "0           3911043  1333561477295267841            118898981   \n",
       "1           3911042  1333561484597735426            328702627   \n",
       "2           2209701  1333561512170930183             83678658   \n",
       "3           3911041  1333561545377378305  1104428775348076544   \n",
       "4           2209700  1333561692958167041           2455465874   \n",
       "...             ...                  ...                  ...   \n",
       "6356173     5324126  1401765862445563905  1219298739959083011   \n",
       "6356174     3911044  1401765860402896898  1265018009472561152   \n",
       "6356175     1158349  1401765860809785344  1155266680605614082   \n",
       "6356176     4466587  1401765860402896898  1265018009472561152   \n",
       "6356177     5324129  1401765861489352706            732214009   \n",
       "\n",
       "                    User                      Time Party/Search  Allegiance  \\\n",
       "0               Jordi_Co  2020-12-01T00:00:07.000Z          PRD    0.673136   \n",
       "1              benja21_3  2020-12-01T00:00:08.000Z          PRD    0.969530   \n",
       "2              ursusnero  2020-12-01T00:00:15.000Z          PRI    0.180877   \n",
       "3        Roberto89123572  2020-12-01T00:00:23.000Z          PRD    0.254450   \n",
       "4         PRImxJaliscoAC  2020-12-01T00:00:58.000Z          PRI    0.938383   \n",
       "...                  ...                       ...          ...         ...   \n",
       "6356173  Laura3442005796  2021-06-07T04:59:59.000Z         PVEM    0.009221   \n",
       "6356174      liz99822758  2021-06-07T04:59:59.000Z          PRD    0.034014   \n",
       "6356175         olores_y  2021-06-07T04:59:59.000Z          PAN    0.296407   \n",
       "6356176      liz99822758  2021-06-07T04:59:59.000Z          PRD    0.034014   \n",
       "6356177    RBolanosVital  2021-06-07T04:59:59.000Z         PVEM    0.009112   \n",
       "\n",
       "                                                      Text  \n",
       "0        Bajo su análisis, Andrés representa a lo peor ...  \n",
       "1        La alianza del PAN,PRI y PRD más todos los que...  \n",
       "2        \"Apartidistas\" → ¡Tomen partido contra Morena!...  \n",
       "3        @LizLizMarie077 @BeanaNova 1 LA  cura para bor...  \n",
       "4        Cuando los militantes como Gustavo y Rosalina,...  \n",
       "...                                                    ...  \n",
       "6356173  \"Vendidos\":\\nPor quienes se refieren así de la...  \n",
       "6356174  El PAN dice que gano\\nEl PRI dice que gano\\nEl...  \n",
       "6356175  @chincualuda @ElFinanciero_Mx @makugo @AccionN...  \n",
       "6356176  El PAN dice que gano\\nEl PRI dice que gano\\nEl...  \n",
       "6356177  Dignidad.- Cualidad de una persona que se comp...  \n",
       "\n",
       "[6356178 rows x 8 columns]"
      ]
     },
     "execution_count": 3,
     "metadata": {},
     "output_type": "execute_result"
    }
   ],
   "source": [
    "reducedData"
   ]
  },
  {
   "cell_type": "code",
   "execution_count": 4,
   "metadata": {},
   "outputs": [],
   "source": [
    "# Convert dataframe to time series\n",
    "date = pd.to_datetime(reducedData['Time'])\n",
    "date_Mexico = pd.Series(pd.DatetimeIndex(date).tz_convert('America/Mexico_City'))"
   ]
  },
  {
   "cell_type": "code",
   "execution_count": 5,
   "metadata": {},
   "outputs": [],
   "source": [
    "date_Mexico_week = date_Mexico.dt.isocalendar().week\n",
    "date_Mexico_year = date_Mexico.dt.isocalendar().year"
   ]
  },
  {
   "cell_type": "code",
   "execution_count": 6,
   "metadata": {},
   "outputs": [
    {
     "data": {
      "text/plain": [
       "Text(0, 0.5, 'Number of Tweets')"
      ]
     },
     "execution_count": 6,
     "metadata": {},
     "output_type": "execute_result"
    },
    {
     "data": {
      "image/png": "[encoded data removed]",
      "text/plain": [
       "<Figure size 720x360 with 1 Axes>"
      ]
     },
     "metadata": {
      "needs_background": "light"
     },
     "output_type": "display_data"
    }
   ],
   "source": [
    "# Counting and plotting numbers of Tweets\n",
    "week_groups_Mexico = date_Mexico.groupby([date_Mexico_year,date_Mexico_week]).count()\n",
    "week_groups_Mexico.plot(kind='bar',figsize=(10,5),legend=None)\n",
    "plt.ylabel('Number of Tweets')"
   ]
  },
  {
   "cell_type": "code",
   "execution_count": 7,
   "metadata": {},
   "outputs": [
    {
     "data": {
      "text/plain": [
       "Text(0, 0.5, 'Number of Tweets')"
      ]
     },
     "execution_count": 7,
     "metadata": {},
     "output_type": "execute_result"
    },
    {
     "data": {
      "image/png": "[encoded data removed]",
      "text/plain": [
       "<Figure size 720x360 with 1 Axes>"
      ]
     },
     "metadata": {
      "needs_background": "light"
     },
     "output_type": "display_data"
    }
   ],
   "source": [
    "week_groups_Mexico = date_Mexico.groupby([date_Mexico_year,date_Mexico_week]).count()\n",
    "week_groups_Mexico.plot(kind='bar',figsize=(10,5),legend=None)\n",
    "plt.yscale('log')\n",
    "plt.ylabel('Number of Tweets')\n",
    "# plt.ylim([10**3, 2*10**5])"
   ]
  },
  {
   "cell_type": "code",
   "execution_count": 8,
   "metadata": {},
   "outputs": [
    {
     "data": {
      "text/plain": [
       "Text(0, 0.5, 'Cumulative Number of Tweets')"
      ]
     },
     "execution_count": 8,
     "metadata": {},
     "output_type": "execute_result"
    },
    {
     "data": {
      "image/png": "[encoded data removed]",
      "text/plain": [
       "<Figure size 720x360 with 1 Axes>"
      ]
     },
     "metadata": {
      "needs_background": "light"
     },
     "output_type": "display_data"
    }
   ],
   "source": [
    "week_groups_Mexico.cumsum().plot(kind='bar',figsize=(10,5),legend=None)\n",
    "plt.ylabel('Cumulative Number of Tweets')"
   ]
  },
  {
   "cell_type": "code",
   "execution_count": 31,
   "metadata": {},
   "outputs": [
    {
     "data": {
      "text/plain": [
       "0              118898981\n",
       "1              328702627\n",
       "2               83678658\n",
       "3    1104428775348076544\n",
       "4             2455465874\n",
       "5             3709274244\n",
       "6             2455465874\n",
       "7             2455465874\n",
       "8    1064558044082774016\n",
       "9    1259280663343235075\n",
       "Name: User ID, dtype: int64"
      ]
     },
     "execution_count": 31,
     "metadata": {},
     "output_type": "execute_result"
    }
   ],
   "source": [
    "reducedData['User ID'][0:10]"
   ]
  },
  {
   "cell_type": "code",
   "execution_count": 26,
   "metadata": {},
   "outputs": [],
   "source": [
    "u, indices = np.unique(reducedData['User ID'], return_index=True)"
   ]
  },
  {
   "cell_type": "code",
   "execution_count": 33,
   "metadata": {},
   "outputs": [
    {
     "name": "stdout",
     "output_type": "stream",
     "text": [
      "[               3968                5803               12996 ...\n",
      " 1401737185649434627 1401741951259627524 1401757743887753216]\n",
      "[6205377 3996882 3882061 ... 6311514 6317279 6343540]\n",
      "\n",
      "6205377    2021-06-06T22:45:53.000Z\n",
      "3996882    2021-05-15T19:03:44.000Z\n",
      "3882061    2021-05-14T01:45:46.000Z\n",
      "2407216    2021-04-23T15:43:06.000Z\n",
      "377564     2021-01-11T01:04:46.000Z\n",
      "                     ...           \n",
      "6333786    2021-06-07T04:11:19.000Z\n",
      "6298756    2021-06-07T02:38:11.000Z\n",
      "6311514    2021-06-07T03:10:34.000Z\n",
      "6317279    2021-06-07T03:26:59.000Z\n",
      "6343540    2021-06-07T04:33:49.000Z\n",
      "Name: Time, Length: 543131, dtype: object\n"
     ]
    }
   ],
   "source": [
    "print(u)\n",
    "print(indices)\n",
    "print()\n",
    "print(reducedData['Time'][indices])"
   ]
  },
  {
   "cell_type": "code",
   "execution_count": 11,
   "metadata": {},
   "outputs": [
    {
     "data": {
      "image/png": "[encoded data removed]",
      "text/plain": [
       "<Figure size 720x360 with 1 Axes>"
      ]
     },
     "metadata": {
      "needs_background": "light"
     },
     "output_type": "display_data"
    }
   ],
   "source": [
    "week_groups_Mexico_unique_users = date_Mexico[indices].groupby([date_Mexico_year[indices],date_Mexico_week[indices]]).count()\n",
    "week_groups_Mexico_unique_users.plot(kind='bar', color='r',figsize=(10,5),legend=None)\n",
    "plt.ylabel('Number of Unique Users')\n",
    "plt.savefig('unique_users.png')"
   ]
  },
  {
   "cell_type": "code",
   "execution_count": 12,
   "metadata": {},
   "outputs": [
    {
     "data": {
      "image/png": "[encoded data removed]",
      "text/plain": [
       "<Figure size 720x360 with 1 Axes>"
      ]
     },
     "metadata": {
      "needs_background": "light"
     },
     "output_type": "display_data"
    }
   ],
   "source": [
    "week_groups_Mexico_unique_users.cumsum().plot(kind='bar', color='r',figsize=(10,5),legend=None)\n",
    "plt.ylabel('Cumulative Number of Unique Users')\n",
    "plt.savefig('cum_unique_users.png')"
   ]
  },
  {
   "cell_type": "code",
   "execution_count": null,
   "metadata": {},
   "outputs": [],
   "source": []
  },
  {
   "cell_type": "code",
   "execution_count": 13,
   "metadata": {},
   "outputs": [
    {
     "name": "stdout",
     "output_type": "stream",
     "text": [
      "6356178\n",
      "543131\n",
      "11.702845169949791\n"
     ]
    }
   ],
   "source": [
    "# Some checks\n",
    "number_of_Tweets = len(reducedData[reducedData.columns[2]])\n",
    "number_of_unique_users = len(np.unique(reducedData[reducedData.columns[2]]))\n",
    "print(number_of_Tweets)\n",
    "print(number_of_unique_users)\n",
    "print(number_of_Tweets/number_of_unique_users)"
   ]
  },
  {
   "cell_type": "code",
   "execution_count": null,
   "metadata": {},
   "outputs": [],
   "source": []
  }
 ],
 "metadata": {
  "kernelspec": {
   "display_name": "Python 3",
   "language": "python",
   "name": "python3"
  },
  "language_info": {
   "codemirror_mode": {
    "name": "ipython",
    "version": 3
   },
   "file_extension": ".py",
   "mimetype": "text/x-python",
   "name": "python",
   "nbconvert_exporter": "python",
   "pygments_lexer": "ipython3",
   "version": "3.7.6"
  }
 },
 "nbformat": 4,
 "nbformat_minor": 4
}
